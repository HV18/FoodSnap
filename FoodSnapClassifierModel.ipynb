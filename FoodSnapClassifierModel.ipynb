{
  "cells": [
    {
      "cell_type": "markdown",
      "metadata": {
        "id": "Dnf0wb6S4N5W"
      },
      "source": [
        "**Requirements:**\n",
        "1. numpy\n",
        "2. pandas\n",
        "3. matplotlib\n",
        "4. pillow\n",
        "5. plotly\n",
        "6. nbformat\n",
        "7. ipywidgets\n",
        "8. modelbit\n",
        "9. torch torchvision torchaudio --index-url https://download.pytorch.org/whl/cu124\n",
        "10. transformers\n",
        "11. scikit-learn"
      ]
    },
    {
      "cell_type": "markdown",
      "metadata": {
        "id": "ogxDVdxHDIxA"
      },
      "source": [
        "# **0. Important bit: Using ModelBit for the model deployment**"
      ]
    },
    {
      "cell_type": "code",
      "execution_count": null,
      "metadata": {
        "id": "pKBnnzk0DhBv",
        "outputId": "e4fbc316-6696-4435-9162-35c7735c51ba"
      },
      "outputs": [
        {
          "data": {
            "text/html": [
              "\n",
              "<div style=\"margin: 0; padding: 5px; line-height: 1.75; font-size: 14px; vertical-align: baseline; list-style: none; font-family: Roboto, Arial, sans-serif; background: none;\">\n",
              "  <div style=\"margin: 0; padding: 0; line-height: 1.75; font-size: 14px; vertical-align: baseline; list-style: none; font-family: Roboto, Arial, sans-serif; background: none;\">\n",
              "    You're <span style=\"margin: 0; padding: 0; line-height: 1.75; font-size: 14px; vertical-align: baseline; list-style: none; font-family: Roboto, Arial, sans-serif; background: none; color: #15803d; font-weight: bold;\">connected</span> to Modelbit as harshathvenkatesh18@gmail.com.\n",
              "    Workspace: <span style=\"margin: 0; padding: 0; line-height: 1.75; font-size: 14px; vertical-align: baseline; list-style: none; font-family: monospace; background: none; font-weight: bold; color: #845B99;\">harshathvenkatesh</span>.\n",
              "    \n",
              "      Region: <span style=\"margin: 0; padding: 0; line-height: 1.75; font-size: 14px; vertical-align: baseline; list-style: none; font-family: monospace; background: none; font-weight: bold; color: #845B99;\">us-east-1</span>\n",
              "    \n",
              "    Branch: <span style=\"margin: 0; padding: 0; line-height: 1.75; font-size: 14px; vertical-align: baseline; list-style: none; font-family: monospace; background: none; font-weight: bold; color: #845B99;\">main</span>\n",
              "\t</div>\n",
              "  \n",
              "\n",
              "\n",
              "\n",
              "\n",
              "\n",
              "\n",
              "</div>"
            ],
            "text/plain": [
              "<IPython.core.display.HTML object>"
            ]
          },
          "metadata": {},
          "output_type": "display_data"
        },
        {
          "data": {
            "text/html": [],
            "text/plain": [
              "<module 'modelbit' from 'd:\\\\FoodSnap\\\\.venv\\\\Lib\\\\site-packages\\\\modelbit\\\\__init__.py'>"
            ]
          },
          "execution_count": 35,
          "metadata": {},
          "output_type": "execute_result"
        }
      ],
      "source": [
        "import modelbit\n",
        "modelbit.login()"
      ]
    },
    {
      "cell_type": "code",
      "execution_count": null,
      "metadata": {
        "id": "-Gbds9IEDT8U"
      },
      "outputs": [],
      "source": [
        "def Deploying_Model_to_modelbit(model, model_name=\"FoodSnap_V50e\"):\n",
        "    modelbit.add_model(model_name, model)\n",
        "    print(f\"Model '{model_name}' has been deployed to Modelbit.\")"
      ]
    },
    {
      "cell_type": "markdown",
      "metadata": {
        "id": "sSFgwefzEuNJ"
      },
      "source": [
        "# **1. Getting our Dataset.**"
      ]
    },
    {
      "cell_type": "code",
      "execution_count": null,
      "metadata": {
        "id": "mr7WpDnH4N5a"
      },
      "outputs": [],
      "source": [
        "import os\n",
        "import plotly.io as pio"
      ]
    },
    {
      "cell_type": "code",
      "execution_count": null,
      "metadata": {
        "id": "_sw_zW5R4N5a"
      },
      "outputs": [],
      "source": [
        "from PIL import Image\n",
        "import plotly.graph_objects as go\n",
        "from plotly.subplots import make_subplots"
      ]
    },
    {
      "cell_type": "code",
      "execution_count": null,
      "metadata": {
        "id": "g0vl7kFT9Ct0"
      },
      "outputs": [],
      "source": [
        "data_dir = 'Food Snap Dataset'\n",
        "categories = os.listdir(data_dir)\n",
        "categories.sort()"
      ]
    },
    {
      "cell_type": "code",
      "execution_count": null,
      "metadata": {
        "id": "WJJDxc3e4N5b"
      },
      "outputs": [],
      "source": [
        "images = []\n",
        "labels = []\n",
        "\n",
        "for category in categories:\n",
        "    category_dir = os.path.join(data_dir, category)\n",
        "    image_path = os.path.join(category_dir, os.listdir(category_dir)[0])\n",
        "    images.append(image_path)\n",
        "    labels.append(category)"
      ]
    },
    {
      "cell_type": "code",
      "execution_count": null,
      "metadata": {
        "id": "F11R1BSDs7uu"
      },
      "outputs": [],
      "source": [
        "num_cols = 4\n",
        "num_rows = (len(categories) // num_cols) + 1\n",
        "fig = make_subplots(rows=num_rows, cols=num_cols, subplot_titles=labels)\n",
        "\n",
        "for i, img_path in enumerate(images):\n",
        "    img = Image.open(img_path).resize((224, 224))\n",
        "    row = (i // num_cols) + 1\n",
        "    col = (i % num_cols) + 1\n",
        "    fig.add_trace(\n",
        "        go.Image(z=img),\n",
        "        row=row, col=col\n",
        "    )\n",
        "\n",
        "fig.update_layout(\n",
        "    title=f\"List of Labels in the Dataset({len(categories)} labels)\",\n",
        "    showlegend=False,\n",
        "    width=num_cols * 300,\n",
        "    height=num_rows * 300\n",
        ")\n",
        "fig.update_xaxes(showticklabels=False).update_yaxes(showticklabels=False)\n",
        "fig.show()"
      ]
    },
    {
      "cell_type": "markdown",
      "metadata": {
        "id": "GsfmiuHAEtpR"
      },
      "source": [
        "## **2. Data Preprocessing Steps**\n",
        "\n",
        "\n",
        "\n",
        "1. importing the necessary libraries\n",
        "2. creating two transform functions for train and valid sets\n",
        "3. splitting the dataset into train, validation, and test in 7:1:2 ratio.\n",
        "4. applying the transform functions on train and validation sets and creating dataloaders for train, validation, and test sets.\n",
        "5. finally displaying a batch of training set after the processing is applied.\n",
        "\n"
      ]
    },
    {
      "cell_type": "code",
      "execution_count": null,
      "metadata": {
        "id": "3wCagwHZ-tKO"
      },
      "outputs": [],
      "source": [
        "import torch\n",
        "import torchvision\n",
        "import numpy as np\n",
        "import pandas as pd\n",
        "import matplotlib.pyplot as plt\n",
        "\n",
        "from torchvision import transforms\n",
        "from torchvision.datasets import ImageFolder\n",
        "from torch.utils.data import DataLoader, random_split"
      ]
    },
    {
      "cell_type": "code",
      "execution_count": null,
      "metadata": {
        "id": "nk7zbaG59NBA"
      },
      "outputs": [],
      "source": [
        "train_transform = transforms.Compose([\n",
        "    transforms.RandomResizedCrop(224, scale=(0.8, 1.0)),\n",
        "    transforms.RandomHorizontalFlip(),\n",
        "    transforms.RandomRotation(20),\n",
        "    transforms.ColorJitter(brightness=0.2, contrast=0.2, saturation=0.2, hue=0.2),\n",
        "    transforms.ToTensor(),\n",
        "    transforms.Normalize(mean=[0.485, 0.456, 0.406], std=[0.229, 0.224, 0.225])\n",
        "])\n",
        "\n",
        "val_test_transform = transforms.Compose([\n",
        "    transforms.Resize(256),\n",
        "    transforms.CenterCrop(224),\n",
        "    transforms.ToTensor(),\n",
        "    transforms.Normalize(mean=[0.485, 0.456, 0.406], std=[0.229, 0.224, 0.225])\n",
        "])"
      ]
    },
    {
      "cell_type": "code",
      "execution_count": null,
      "metadata": {
        "colab": {
          "base_uri": "https://localhost:8080/",
          "height": 442
        },
        "id": "5iJ_hV_Xldbf",
        "outputId": "e5afe1c9-6430-4134-bfb2-f4e3be10f609"
      },
      "outputs": [
        {
          "name": "stdout",
          "output_type": "stream",
          "text": [
            "Number of classes: 80\n"
          ]
        },
        {
          "data": {
            "text/html": [
              "<div>\n",
              "<style scoped>\n",
              "    .dataframe tbody tr th:only-of-type {\n",
              "        vertical-align: middle;\n",
              "    }\n",
              "\n",
              "    .dataframe tbody tr th {\n",
              "        vertical-align: top;\n",
              "    }\n",
              "\n",
              "    .dataframe thead th {\n",
              "        text-align: right;\n",
              "    }\n",
              "</style>\n",
              "<table border=\"1\" class=\"dataframe\">\n",
              "  <thead>\n",
              "    <tr style=\"text-align: right;\">\n",
              "      <th></th>\n",
              "      <th>Class Name</th>\n",
              "      <th>Number of Images</th>\n",
              "    </tr>\n",
              "  </thead>\n",
              "  <tbody>\n",
              "    <tr>\n",
              "      <th>0</th>\n",
              "      <td>adhirasam</td>\n",
              "      <td>50</td>\n",
              "    </tr>\n",
              "    <tr>\n",
              "      <th>1</th>\n",
              "      <td>aloo_gobi</td>\n",
              "      <td>50</td>\n",
              "    </tr>\n",
              "    <tr>\n",
              "      <th>2</th>\n",
              "      <td>aloo_matar</td>\n",
              "      <td>50</td>\n",
              "    </tr>\n",
              "    <tr>\n",
              "      <th>3</th>\n",
              "      <td>aloo_methi</td>\n",
              "      <td>50</td>\n",
              "    </tr>\n",
              "    <tr>\n",
              "      <th>4</th>\n",
              "      <td>aloo_shimla_mirch</td>\n",
              "      <td>50</td>\n",
              "    </tr>\n",
              "    <tr>\n",
              "      <th>...</th>\n",
              "      <td>...</td>\n",
              "      <td>...</td>\n",
              "    </tr>\n",
              "    <tr>\n",
              "      <th>75</th>\n",
              "      <td>shrikhand</td>\n",
              "      <td>50</td>\n",
              "    </tr>\n",
              "    <tr>\n",
              "      <th>76</th>\n",
              "      <td>sohan_halwa</td>\n",
              "      <td>50</td>\n",
              "    </tr>\n",
              "    <tr>\n",
              "      <th>77</th>\n",
              "      <td>sohan_papdi</td>\n",
              "      <td>50</td>\n",
              "    </tr>\n",
              "    <tr>\n",
              "      <th>78</th>\n",
              "      <td>sutar_feni</td>\n",
              "      <td>50</td>\n",
              "    </tr>\n",
              "    <tr>\n",
              "      <th>79</th>\n",
              "      <td>unni_appam</td>\n",
              "      <td>50</td>\n",
              "    </tr>\n",
              "  </tbody>\n",
              "</table>\n",
              "<p>80 rows × 2 columns</p>\n",
              "</div>"
            ],
            "text/plain": [
              "           Class Name  Number of Images\n",
              "0           adhirasam                50\n",
              "1           aloo_gobi                50\n",
              "2          aloo_matar                50\n",
              "3          aloo_methi                50\n",
              "4   aloo_shimla_mirch                50\n",
              "..                ...               ...\n",
              "75          shrikhand                50\n",
              "76        sohan_halwa                50\n",
              "77        sohan_papdi                50\n",
              "78         sutar_feni                50\n",
              "79         unni_appam                50\n",
              "\n",
              "[80 rows x 2 columns]"
            ]
          },
          "execution_count": 13,
          "metadata": {},
          "output_type": "execute_result"
        }
      ],
      "source": [
        "dataset = ImageFolder(root=data_dir)\n",
        "class_distribution = []\n",
        "for idx, (class_name, count) in enumerate(sorted(dataset.class_to_idx.items(), key=lambda x: x[1])):\n",
        "    num_images = len([y for y in dataset.targets if y == idx])\n",
        "    class_distribution.append((class_name, num_images))\n",
        "\n",
        "print(f\"Number of classes: {len(dataset.classes)}\")\n",
        "class_df = pd.DataFrame(class_distribution, columns=[\"Class Name\", \"Number of Images\"])\n",
        "class_df"
      ]
    },
    {
      "cell_type": "code",
      "execution_count": null,
      "metadata": {
        "colab": {
          "base_uri": "https://localhost:8080/"
        },
        "id": "GkB_Faq3MS0p",
        "outputId": "c0ec2ed2-4384-4130-f045-42b287ce5fd4"
      },
      "outputs": [
        {
          "name": "stdout",
          "output_type": "stream",
          "text": [
            "Total images: 4000\n",
            "Training images: 2800\n",
            "Validation images: 400\n",
            "Test images: 800\n"
          ]
        }
      ],
      "source": [
        "total_size = len(dataset)\n",
        "train_size = int(0.7 * total_size)\n",
        "val_size = int(0.1 * total_size)\n",
        "test_size = total_size - train_size - val_size\n",
        "\n",
        "train_data, val_data, test_data = random_split(\n",
        "    dataset,\n",
        "    [train_size, val_size, test_size],\n",
        "    generator=torch.Generator().manual_seed(42)\n",
        ")\n",
        "\n",
        "train_data.dataset.transform = train_transform\n",
        "val_data.dataset.transform = val_test_transform\n",
        "test_data.dataset.transform = val_test_transform\n",
        "\n",
        "num_workers = min(2, os.cpu_count() or 1)\n",
        "batch_size = 32\n",
        "\n",
        "train_loader = DataLoader(train_data, batch_size=batch_size, shuffle=True, num_workers=num_workers)\n",
        "val_loader = DataLoader(val_data, batch_size=batch_size, shuffle=False, num_workers=num_workers)\n",
        "test_loader = DataLoader(test_data, batch_size=batch_size, shuffle=False, num_workers=num_workers)\n",
        "\n",
        "print(f\"Total images: {total_size}\")\n",
        "print(f\"Training images: {len(train_data)}\")\n",
        "print(f\"Validation images: {len(val_data)}\")\n",
        "print(f\"Test images: {len(test_data)}\")"
      ]
    },
    {
      "cell_type": "code",
      "execution_count": null,
      "metadata": {
        "id": "YW71y3Zp-4IL"
      },
      "outputs": [],
      "source": [
        "def imshow(img):\n",
        "    img = img / 2 + 0.5\n",
        "    img = img.clamp(0, 1)\n",
        "    npimg = img.numpy()\n",
        "    plt.imshow(np.transpose(npimg, (1, 2, 0)))\n",
        "    plt.show()\n",
        "\n",
        "dataiter = iter(train_loader)\n",
        "images, labels = next(dataiter)\n",
        "imshow(torchvision.utils.make_grid(images))"
      ]
    },
    {
      "cell_type": "markdown",
      "metadata": {
        "id": "7OMlWbwcrGmP"
      },
      "source": [
        "# **3. training dr2**"
      ]
    },
    {
      "cell_type": "code",
      "execution_count": null,
      "metadata": {
        "id": "lcbkNtJBrZ4G"
      },
      "outputs": [],
      "source": [
        "import torch\n",
        "import torch.nn as nn\n",
        "\n",
        "from transformers import AutoImageProcessor, SwinForImageClassification\n",
        "from torch.optim import AdamW\n",
        "from torch.optim.lr_scheduler import StepLR, ReduceLROnPlateau\n",
        "from torchvision import transforms\n",
        "from tqdm import tqdm"
      ]
    },
    {
      "cell_type": "code",
      "execution_count": null,
      "metadata": {
        "colab": {
          "base_uri": "https://localhost:8080/",
          "height": 278,
          "referenced_widgets": [
            "e619c9899bbe4260a5b251a50e87e70a",
            "f5661a6d44034acd99a4688bc5070fba",
            "5a3313aa725141ce8f25f4b1ee1b56db",
            "e1c98e3f8fd947009471a58939a6b124",
            "233679f64a124bd2ae2d064bd6aa1636",
            "1fd46543cc2b40ac857c6c93ccbabb8d",
            "7fe2e2f66b5b4753b4e5a106b5518be7",
            "15b706865ac143b0bae856b781fda325",
            "9ec014d37207457eb2ad07e89bd7efb0",
            "f9023ab6eed0493fb97dc57770fc85ff",
            "b4ae86271a224eb6a6654d55ba141075",
            "84364961ea374886a4d629e87f9fe708",
            "a20ba58a7edb4350816cb45d7a9592c2",
            "3eb5298082054ff19dadd247c0db25cc",
            "e52b80c796d94bd2a300d1ec74fbee50",
            "d4f9d4f0a1604135a42df60e4e09de93",
            "300719cff2f540989bbee9a10ef588f8",
            "d0e421d914ba4d94b33126f89e81b218",
            "74fc9aa5b9f54710aa22381a80bfa67e",
            "a0ba793bc7dc499f978bf001a8d5006d",
            "34fef1f6e0584b09b378ecbbd5bd3752",
            "49e12719a4324e88933d2b07eb445c4d",
            "24a0f15da3d74e7087a1ce3a825bd1a2",
            "5034eb982ee647c2a0eaba7ad9b62c02",
            "c5e91322ae3e4d35b456526bc123c2df",
            "5afdcf8035e248d782a567beafa25e8e",
            "40363461fc8a40568a3e62cd379a5fbe",
            "7939cd5797164aaaac98e66ac579add9",
            "34faef7c8a4243a1aabf968157738290",
            "97e241f0130543aabf5ac450b9c7fd77",
            "e73fdf99dcd841a480bd7019d0054f5d",
            "6bbff236aade4426907eb8f0be35e4af",
            "c43ad345b3034c8e8417196521b333a7",
            "bb5ebcb22d3c4a078fa8a942f571b1f9",
            "45013024c055448eb8f6d8b6d84b9fe1",
            "c56377a477824a35ab1d1e8191ddf1d1"
          ]
        },
        "id": "WbrK4PzKrhu1",
        "outputId": "fec9bc18-79ee-41d8-af8b-e3834bb2e04d"
      },
      "outputs": [
        {
          "data": {
            "application/vnd.jupyter.widget-view+json": {
              "model_id": "bb5ebcb22d3c4a078fa8a942f571b1f9",
              "version_major": 2,
              "version_minor": 0
            },
            "text/plain": [
              "preprocessor_config.json:   0%|          | 0.00/255 [00:00<?, ?B/s]"
            ]
          },
          "metadata": {},
          "output_type": "display_data"
        },
        {
          "data": {
            "application/vnd.jupyter.widget-view+json": {
              "model_id": "45013024c055448eb8f6d8b6d84b9fe1",
              "version_major": 2,
              "version_minor": 0
            },
            "text/plain": [
              "config.json:   0%|          | 0.00/71.8k [00:00<?, ?B/s]"
            ]
          },
          "metadata": {},
          "output_type": "display_data"
        },
        {
          "data": {
            "application/vnd.jupyter.widget-view+json": {
              "model_id": "c56377a477824a35ab1d1e8191ddf1d1",
              "version_major": 2,
              "version_minor": 0
            },
            "text/plain": [
              "model.safetensors:   0%|          | 0.00/113M [00:00<?, ?B/s]"
            ]
          },
          "metadata": {},
          "output_type": "display_data"
        },
        {
          "name": "stderr",
          "output_type": "stream",
          "text": [
            "d:\\FoodSnap\\.venv\\Lib\\site-packages\\torch\\optim\\lr_scheduler.py:62: UserWarning:\n",
            "\n",
            "The verbose parameter is deprecated. Please use get_last_lr() to access the learning rate.\n",
            "\n"
          ]
        }
      ],
      "source": [
        "processor = AutoImageProcessor.from_pretrained(\"microsoft/swin-tiny-patch4-window7-224\")\n",
        "model = SwinForImageClassification.from_pretrained(\"microsoft/swin-tiny-patch4-window7-224\")\n",
        "\n",
        "model.classifier = nn.Sequential(\n",
        "    nn.Dropout(0.3),\n",
        "    nn.Linear(model.classifier.in_features, 80)\n",
        ")\n",
        "device = torch.device(\"cuda\" if torch.cuda.is_available() else \"cpu\")\n",
        "model.to(device)\n",
        "\n",
        "criterion = nn.CrossEntropyLoss()\n",
        "optimizer = AdamW(model.parameters(), lr=1e-4, weight_decay=0.01)\n",
        "scheduler = ReduceLROnPlateau(optimizer, 'max', patience=2, factor=0.5, verbose=True)"
      ]
    },
    {
      "cell_type": "code",
      "execution_count": null,
      "metadata": {
        "id": "tgi0BAxBtWw4"
      },
      "outputs": [],
      "source": [
        "num_epochs = 50\n",
        "patience = 15\n",
        "best_val_accuracy = 0.0\n",
        "best_train_accuracy = 0.0\n",
        "epochs_no_improve = 0\n",
        "early_stop = False"
      ]
    },
    {
      "cell_type": "code",
      "execution_count": null,
      "metadata": {
        "colab": {
          "base_uri": "https://localhost:8080/"
        },
        "id": "HprD9HiUte2Y",
        "outputId": "b6f51726-79bf-4249-e4d4-e9ddb47863a6"
      },
      "outputs": [
        {
          "name": "stderr",
          "output_type": "stream",
          "text": [
            "Training Epoch 1/50: 100%|██████████| 88/88 [00:41<00:00,  2.12it/s]\n"
          ]
        },
        {
          "name": "stdout",
          "output_type": "stream",
          "text": [
            "Epoch [1/50], Loss: 3.4777, Accuracy: 0.1886\n",
            "Validation Loss: 2.1940, Validation Accuracy: 0.4150\n",
            "\n",
            "Validation accuracy improved or training accuracy improved with same validation accuracy; model saved.\n",
            "\n"
          ]
        },
        {
          "name": "stderr",
          "output_type": "stream",
          "text": [
            "Training Epoch 2/50: 100%|██████████| 88/88 [00:40<00:00,  2.19it/s]\n"
          ]
        },
        {
          "name": "stdout",
          "output_type": "stream",
          "text": [
            "Epoch [2/50], Loss: 1.5286, Accuracy: 0.5943\n",
            "Validation Loss: 1.3332, Validation Accuracy: 0.6325\n",
            "\n",
            "Validation accuracy improved or training accuracy improved with same validation accuracy; model saved.\n",
            "\n"
          ]
        },
        {
          "name": "stderr",
          "output_type": "stream",
          "text": [
            "Training Epoch 3/50: 100%|██████████| 88/88 [00:39<00:00,  2.22it/s]\n"
          ]
        },
        {
          "name": "stdout",
          "output_type": "stream",
          "text": [
            "Epoch [3/50], Loss: 0.7854, Accuracy: 0.7893\n",
            "Validation Loss: 1.2443, Validation Accuracy: 0.6800\n",
            "\n",
            "Validation accuracy improved or training accuracy improved with same validation accuracy; model saved.\n",
            "\n"
          ]
        },
        {
          "name": "stderr",
          "output_type": "stream",
          "text": [
            "Training Epoch 4/50: 100%|██████████| 88/88 [00:40<00:00,  2.20it/s]\n"
          ]
        },
        {
          "name": "stdout",
          "output_type": "stream",
          "text": [
            "Epoch [4/50], Loss: 0.4329, Accuracy: 0.8914\n",
            "Validation Loss: 1.1233, Validation Accuracy: 0.7075\n",
            "\n",
            "Validation accuracy improved or training accuracy improved with same validation accuracy; model saved.\n",
            "\n"
          ]
        },
        {
          "name": "stderr",
          "output_type": "stream",
          "text": [
            "Training Epoch 5/50: 100%|██████████| 88/88 [00:40<00:00,  2.20it/s]\n"
          ]
        },
        {
          "name": "stdout",
          "output_type": "stream",
          "text": [
            "Epoch [5/50], Loss: 0.2722, Accuracy: 0.9311\n",
            "Validation Loss: 1.0810, Validation Accuracy: 0.7150\n",
            "\n",
            "Validation accuracy improved or training accuracy improved with same validation accuracy; model saved.\n",
            "\n"
          ]
        },
        {
          "name": "stderr",
          "output_type": "stream",
          "text": [
            "Training Epoch 6/50: 100%|██████████| 88/88 [00:39<00:00,  2.21it/s]\n"
          ]
        },
        {
          "name": "stdout",
          "output_type": "stream",
          "text": [
            "Epoch [6/50], Loss: 0.1346, Accuracy: 0.9754\n",
            "Validation Loss: 1.0482, Validation Accuracy: 0.7275\n",
            "\n",
            "Validation accuracy improved or training accuracy improved with same validation accuracy; model saved.\n",
            "\n"
          ]
        },
        {
          "name": "stderr",
          "output_type": "stream",
          "text": [
            "Training Epoch 7/50: 100%|██████████| 88/88 [00:39<00:00,  2.22it/s]\n"
          ]
        },
        {
          "name": "stdout",
          "output_type": "stream",
          "text": [
            "Epoch [7/50], Loss: 0.0840, Accuracy: 0.9879\n",
            "Validation Loss: 1.0029, Validation Accuracy: 0.7275\n",
            "\n",
            "Validation accuracy improved or training accuracy improved with same validation accuracy; model saved.\n",
            "\n"
          ]
        },
        {
          "name": "stderr",
          "output_type": "stream",
          "text": [
            "Training Epoch 8/50: 100%|██████████| 88/88 [00:39<00:00,  2.20it/s]\n"
          ]
        },
        {
          "name": "stdout",
          "output_type": "stream",
          "text": [
            "Epoch [8/50], Loss: 0.0904, Accuracy: 0.9814\n",
            "Validation Loss: 1.0758, Validation Accuracy: 0.7325\n",
            "\n",
            "Validation accuracy improved or training accuracy improved with same validation accuracy; model saved.\n",
            "\n"
          ]
        },
        {
          "name": "stderr",
          "output_type": "stream",
          "text": [
            "Training Epoch 9/50: 100%|██████████| 88/88 [00:39<00:00,  2.22it/s]\n"
          ]
        },
        {
          "name": "stdout",
          "output_type": "stream",
          "text": [
            "Epoch [9/50], Loss: 0.0665, Accuracy: 0.9857\n",
            "Validation Loss: 1.0997, Validation Accuracy: 0.7275\n",
            "\n"
          ]
        },
        {
          "name": "stderr",
          "output_type": "stream",
          "text": [
            "Training Epoch 10/50: 100%|██████████| 88/88 [00:39<00:00,  2.21it/s]\n"
          ]
        },
        {
          "name": "stdout",
          "output_type": "stream",
          "text": [
            "Epoch [10/50], Loss: 0.0736, Accuracy: 0.9839\n",
            "Validation Loss: 1.2059, Validation Accuracy: 0.7200\n",
            "\n"
          ]
        },
        {
          "name": "stderr",
          "output_type": "stream",
          "text": [
            "Training Epoch 11/50: 100%|██████████| 88/88 [00:40<00:00,  2.19it/s]\n"
          ]
        },
        {
          "name": "stdout",
          "output_type": "stream",
          "text": [
            "Epoch [11/50], Loss: 0.0741, Accuracy: 0.9825\n",
            "Validation Loss: 1.2338, Validation Accuracy: 0.7125\n",
            "\n"
          ]
        },
        {
          "name": "stderr",
          "output_type": "stream",
          "text": [
            "Training Epoch 12/50: 100%|██████████| 88/88 [00:39<00:00,  2.21it/s]\n"
          ]
        },
        {
          "name": "stdout",
          "output_type": "stream",
          "text": [
            "Epoch [12/50], Loss: 0.0521, Accuracy: 0.9896\n",
            "Validation Loss: 1.1288, Validation Accuracy: 0.7150\n",
            "\n"
          ]
        },
        {
          "name": "stderr",
          "output_type": "stream",
          "text": [
            "Training Epoch 13/50: 100%|██████████| 88/88 [00:39<00:00,  2.21it/s]\n"
          ]
        },
        {
          "name": "stdout",
          "output_type": "stream",
          "text": [
            "Epoch [13/50], Loss: 0.0351, Accuracy: 0.9921\n",
            "Validation Loss: 1.0407, Validation Accuracy: 0.7500\n",
            "\n",
            "Validation accuracy improved or training accuracy improved with same validation accuracy; model saved.\n",
            "\n"
          ]
        },
        {
          "name": "stderr",
          "output_type": "stream",
          "text": [
            "Training Epoch 14/50: 100%|██████████| 88/88 [00:39<00:00,  2.21it/s]\n"
          ]
        },
        {
          "name": "stdout",
          "output_type": "stream",
          "text": [
            "Epoch [14/50], Loss: 0.0244, Accuracy: 0.9932\n",
            "Validation Loss: 1.0828, Validation Accuracy: 0.7275\n",
            "\n"
          ]
        },
        {
          "name": "stderr",
          "output_type": "stream",
          "text": [
            "Training Epoch 15/50: 100%|██████████| 88/88 [00:39<00:00,  2.21it/s]\n"
          ]
        },
        {
          "name": "stdout",
          "output_type": "stream",
          "text": [
            "Epoch [15/50], Loss: 0.0260, Accuracy: 0.9936\n",
            "Validation Loss: 1.0784, Validation Accuracy: 0.7300\n",
            "\n"
          ]
        },
        {
          "name": "stderr",
          "output_type": "stream",
          "text": [
            "Training Epoch 16/50: 100%|██████████| 88/88 [00:39<00:00,  2.22it/s]\n"
          ]
        },
        {
          "name": "stdout",
          "output_type": "stream",
          "text": [
            "Epoch [16/50], Loss: 0.0234, Accuracy: 0.9943\n",
            "Validation Loss: 1.1252, Validation Accuracy: 0.7225\n",
            "\n"
          ]
        },
        {
          "name": "stderr",
          "output_type": "stream",
          "text": [
            "Training Epoch 17/50: 100%|██████████| 88/88 [00:40<00:00,  2.18it/s]\n"
          ]
        },
        {
          "name": "stdout",
          "output_type": "stream",
          "text": [
            "Epoch [17/50], Loss: 0.0182, Accuracy: 0.9954\n",
            "Validation Loss: 1.1066, Validation Accuracy: 0.7500\n",
            "\n",
            "Validation accuracy improved or training accuracy improved with same validation accuracy; model saved.\n",
            "\n"
          ]
        },
        {
          "name": "stderr",
          "output_type": "stream",
          "text": [
            "Training Epoch 18/50: 100%|██████████| 88/88 [00:39<00:00,  2.22it/s]\n"
          ]
        },
        {
          "name": "stdout",
          "output_type": "stream",
          "text": [
            "Epoch [18/50], Loss: 0.0178, Accuracy: 0.9950\n",
            "Validation Loss: 1.1256, Validation Accuracy: 0.7400\n",
            "\n"
          ]
        },
        {
          "name": "stderr",
          "output_type": "stream",
          "text": [
            "Training Epoch 19/50: 100%|██████████| 88/88 [00:39<00:00,  2.21it/s]\n"
          ]
        },
        {
          "name": "stdout",
          "output_type": "stream",
          "text": [
            "Epoch [19/50], Loss: 0.0186, Accuracy: 0.9957\n",
            "Validation Loss: 1.1358, Validation Accuracy: 0.7400\n",
            "\n"
          ]
        },
        {
          "name": "stderr",
          "output_type": "stream",
          "text": [
            "Training Epoch 20/50: 100%|██████████| 88/88 [00:40<00:00,  2.19it/s]\n"
          ]
        },
        {
          "name": "stdout",
          "output_type": "stream",
          "text": [
            "Epoch [20/50], Loss: 0.0182, Accuracy: 0.9954\n",
            "Validation Loss: 1.1449, Validation Accuracy: 0.7325\n",
            "\n"
          ]
        },
        {
          "name": "stderr",
          "output_type": "stream",
          "text": [
            "Training Epoch 21/50: 100%|██████████| 88/88 [00:39<00:00,  2.22it/s]\n"
          ]
        },
        {
          "name": "stdout",
          "output_type": "stream",
          "text": [
            "Epoch [21/50], Loss: 0.0190, Accuracy: 0.9943\n",
            "Validation Loss: 1.1205, Validation Accuracy: 0.7425\n",
            "\n"
          ]
        },
        {
          "name": "stderr",
          "output_type": "stream",
          "text": [
            "Training Epoch 22/50: 100%|██████████| 88/88 [00:39<00:00,  2.21it/s]\n"
          ]
        },
        {
          "name": "stdout",
          "output_type": "stream",
          "text": [
            "Epoch [22/50], Loss: 0.0174, Accuracy: 0.9929\n",
            "Validation Loss: 1.0989, Validation Accuracy: 0.7500\n",
            "\n"
          ]
        },
        {
          "name": "stderr",
          "output_type": "stream",
          "text": [
            "Training Epoch 23/50: 100%|██████████| 88/88 [00:40<00:00,  2.20it/s]\n"
          ]
        },
        {
          "name": "stdout",
          "output_type": "stream",
          "text": [
            "Epoch [23/50], Loss: 0.0142, Accuracy: 0.9939\n",
            "Validation Loss: 1.1022, Validation Accuracy: 0.7500\n",
            "\n"
          ]
        },
        {
          "name": "stderr",
          "output_type": "stream",
          "text": [
            "Training Epoch 24/50: 100%|██████████| 88/88 [00:39<00:00,  2.21it/s]\n"
          ]
        },
        {
          "name": "stdout",
          "output_type": "stream",
          "text": [
            "Epoch [24/50], Loss: 0.0169, Accuracy: 0.9939\n",
            "Validation Loss: 1.1099, Validation Accuracy: 0.7500\n",
            "\n"
          ]
        },
        {
          "name": "stderr",
          "output_type": "stream",
          "text": [
            "Training Epoch 25/50: 100%|██████████| 88/88 [00:40<00:00,  2.20it/s]\n"
          ]
        },
        {
          "name": "stdout",
          "output_type": "stream",
          "text": [
            "Epoch [25/50], Loss: 0.0169, Accuracy: 0.9939\n",
            "Validation Loss: 1.1054, Validation Accuracy: 0.7550\n",
            "\n",
            "Validation accuracy improved or training accuracy improved with same validation accuracy; model saved.\n",
            "\n"
          ]
        },
        {
          "name": "stderr",
          "output_type": "stream",
          "text": [
            "Training Epoch 26/50: 100%|██████████| 88/88 [00:39<00:00,  2.22it/s]\n"
          ]
        },
        {
          "name": "stdout",
          "output_type": "stream",
          "text": [
            "Epoch [26/50], Loss: 0.0140, Accuracy: 0.9950\n",
            "Validation Loss: 1.1073, Validation Accuracy: 0.7500\n",
            "\n"
          ]
        },
        {
          "name": "stderr",
          "output_type": "stream",
          "text": [
            "Training Epoch 27/50: 100%|██████████| 88/88 [00:39<00:00,  2.21it/s]\n"
          ]
        },
        {
          "name": "stdout",
          "output_type": "stream",
          "text": [
            "Epoch [27/50], Loss: 0.0143, Accuracy: 0.9939\n",
            "Validation Loss: 1.1067, Validation Accuracy: 0.7525\n",
            "\n"
          ]
        },
        {
          "name": "stderr",
          "output_type": "stream",
          "text": [
            "Training Epoch 28/50: 100%|██████████| 88/88 [00:39<00:00,  2.21it/s]\n"
          ]
        },
        {
          "name": "stdout",
          "output_type": "stream",
          "text": [
            "Epoch [28/50], Loss: 0.0168, Accuracy: 0.9950\n",
            "Validation Loss: 1.1101, Validation Accuracy: 0.7525\n",
            "\n"
          ]
        },
        {
          "name": "stderr",
          "output_type": "stream",
          "text": [
            "Training Epoch 29/50: 100%|██████████| 88/88 [00:39<00:00,  2.21it/s]\n"
          ]
        },
        {
          "name": "stdout",
          "output_type": "stream",
          "text": [
            "Epoch [29/50], Loss: 0.0118, Accuracy: 0.9964\n",
            "Validation Loss: 1.1080, Validation Accuracy: 0.7550\n",
            "\n",
            "Validation accuracy improved or training accuracy improved with same validation accuracy; model saved.\n",
            "\n"
          ]
        },
        {
          "name": "stderr",
          "output_type": "stream",
          "text": [
            "Training Epoch 30/50: 100%|██████████| 88/88 [00:39<00:00,  2.22it/s]\n"
          ]
        },
        {
          "name": "stdout",
          "output_type": "stream",
          "text": [
            "Epoch [30/50], Loss: 0.0172, Accuracy: 0.9957\n",
            "Validation Loss: 1.1119, Validation Accuracy: 0.7450\n",
            "\n"
          ]
        },
        {
          "name": "stderr",
          "output_type": "stream",
          "text": [
            "Training Epoch 31/50: 100%|██████████| 88/88 [00:39<00:00,  2.21it/s]\n"
          ]
        },
        {
          "name": "stdout",
          "output_type": "stream",
          "text": [
            "Epoch [31/50], Loss: 0.0150, Accuracy: 0.9946\n",
            "Validation Loss: 1.1057, Validation Accuracy: 0.7550\n",
            "\n"
          ]
        },
        {
          "name": "stderr",
          "output_type": "stream",
          "text": [
            "Training Epoch 32/50: 100%|██████████| 88/88 [00:40<00:00,  2.20it/s]\n"
          ]
        },
        {
          "name": "stdout",
          "output_type": "stream",
          "text": [
            "Epoch [32/50], Loss: 0.0156, Accuracy: 0.9932\n",
            "Validation Loss: 1.1048, Validation Accuracy: 0.7525\n",
            "\n"
          ]
        },
        {
          "name": "stderr",
          "output_type": "stream",
          "text": [
            "Training Epoch 33/50: 100%|██████████| 88/88 [00:40<00:00,  2.18it/s]\n"
          ]
        },
        {
          "name": "stdout",
          "output_type": "stream",
          "text": [
            "Epoch [33/50], Loss: 0.0143, Accuracy: 0.9943\n",
            "Validation Loss: 1.1018, Validation Accuracy: 0.7500\n",
            "\n"
          ]
        },
        {
          "name": "stderr",
          "output_type": "stream",
          "text": [
            "Training Epoch 34/50: 100%|██████████| 88/88 [00:40<00:00,  2.16it/s]\n"
          ]
        },
        {
          "name": "stdout",
          "output_type": "stream",
          "text": [
            "Epoch [34/50], Loss: 0.0154, Accuracy: 0.9939\n",
            "Validation Loss: 1.1024, Validation Accuracy: 0.7500\n",
            "\n"
          ]
        },
        {
          "name": "stderr",
          "output_type": "stream",
          "text": [
            "Training Epoch 35/50: 100%|██████████| 88/88 [00:39<00:00,  2.22it/s]\n"
          ]
        },
        {
          "name": "stdout",
          "output_type": "stream",
          "text": [
            "Epoch [35/50], Loss: 0.0159, Accuracy: 0.9954\n",
            "Validation Loss: 1.1014, Validation Accuracy: 0.7500\n",
            "\n"
          ]
        },
        {
          "name": "stderr",
          "output_type": "stream",
          "text": [
            "Training Epoch 36/50: 100%|██████████| 88/88 [00:40<00:00,  2.16it/s]\n"
          ]
        },
        {
          "name": "stdout",
          "output_type": "stream",
          "text": [
            "Epoch [36/50], Loss: 0.0137, Accuracy: 0.9950\n",
            "Validation Loss: 1.1036, Validation Accuracy: 0.7500\n",
            "\n"
          ]
        },
        {
          "name": "stderr",
          "output_type": "stream",
          "text": [
            "Training Epoch 37/50: 100%|██████████| 88/88 [00:40<00:00,  2.19it/s]\n"
          ]
        },
        {
          "name": "stdout",
          "output_type": "stream",
          "text": [
            "Epoch [37/50], Loss: 0.0152, Accuracy: 0.9939\n",
            "Validation Loss: 1.1055, Validation Accuracy: 0.7500\n",
            "\n"
          ]
        },
        {
          "name": "stderr",
          "output_type": "stream",
          "text": [
            "Training Epoch 38/50: 100%|██████████| 88/88 [00:40<00:00,  2.19it/s]\n"
          ]
        },
        {
          "name": "stdout",
          "output_type": "stream",
          "text": [
            "Epoch [38/50], Loss: 0.0136, Accuracy: 0.9964\n",
            "Validation Loss: 1.1053, Validation Accuracy: 0.7500\n",
            "\n"
          ]
        },
        {
          "name": "stderr",
          "output_type": "stream",
          "text": [
            "Training Epoch 39/50: 100%|██████████| 88/88 [00:40<00:00,  2.20it/s]\n"
          ]
        },
        {
          "name": "stdout",
          "output_type": "stream",
          "text": [
            "Epoch [39/50], Loss: 0.0135, Accuracy: 0.9950\n",
            "Validation Loss: 1.1055, Validation Accuracy: 0.7500\n",
            "\n"
          ]
        },
        {
          "name": "stderr",
          "output_type": "stream",
          "text": [
            "Training Epoch 40/50: 100%|██████████| 88/88 [00:40<00:00,  2.19it/s]\n"
          ]
        },
        {
          "name": "stdout",
          "output_type": "stream",
          "text": [
            "Epoch [40/50], Loss: 0.0146, Accuracy: 0.9939\n",
            "Validation Loss: 1.1050, Validation Accuracy: 0.7500\n",
            "\n"
          ]
        },
        {
          "name": "stderr",
          "output_type": "stream",
          "text": [
            "Training Epoch 41/50: 100%|██████████| 88/88 [00:41<00:00,  2.14it/s]\n"
          ]
        },
        {
          "name": "stdout",
          "output_type": "stream",
          "text": [
            "Epoch [41/50], Loss: 0.0155, Accuracy: 0.9957\n",
            "Validation Loss: 1.1048, Validation Accuracy: 0.7500\n",
            "\n"
          ]
        },
        {
          "name": "stderr",
          "output_type": "stream",
          "text": [
            "Training Epoch 42/50: 100%|██████████| 88/88 [00:43<00:00,  2.03it/s]\n"
          ]
        },
        {
          "name": "stdout",
          "output_type": "stream",
          "text": [
            "Epoch [42/50], Loss: 0.0132, Accuracy: 0.9957\n",
            "Validation Loss: 1.1050, Validation Accuracy: 0.7500\n",
            "\n"
          ]
        },
        {
          "name": "stderr",
          "output_type": "stream",
          "text": [
            "Training Epoch 43/50: 100%|██████████| 88/88 [00:56<00:00,  1.57it/s]\n"
          ]
        },
        {
          "name": "stdout",
          "output_type": "stream",
          "text": [
            "Epoch [43/50], Loss: 0.0160, Accuracy: 0.9954\n",
            "Validation Loss: 1.1046, Validation Accuracy: 0.7500\n",
            "\n"
          ]
        },
        {
          "name": "stderr",
          "output_type": "stream",
          "text": [
            "Training Epoch 44/50: 100%|██████████| 88/88 [00:39<00:00,  2.20it/s]\n"
          ]
        },
        {
          "name": "stdout",
          "output_type": "stream",
          "text": [
            "Epoch [44/50], Loss: 0.0140, Accuracy: 0.9961\n",
            "Validation Loss: 1.1045, Validation Accuracy: 0.7500\n",
            "\n",
            "No improvement in validation accuracy or training accuracy for 15 epochs. Early stopping.\n",
            "\n",
            "Early stopping triggered.\n"
          ]
        }
      ],
      "source": [
        "for epoch in range(num_epochs):\n",
        "    if early_stop:\n",
        "        print(\"Early stopping triggered.\")\n",
        "        break\n",
        "\n",
        "    model.train()\n",
        "    running_loss = 0.0\n",
        "    correct_predictions = 0\n",
        "    total_predictions = 0\n",
        "\n",
        "    for images, labels in tqdm(train_loader, desc=f\"Training Epoch {epoch+1}/{num_epochs}\"):\n",
        "        images, labels = images.to(device), labels.to(device)\n",
        "\n",
        "        optimizer.zero_grad()\n",
        "        outputs = model(images).logits\n",
        "        loss = criterion(outputs, labels)\n",
        "        loss.backward()\n",
        "        optimizer.step()\n",
        "\n",
        "        running_loss += loss.item()\n",
        "        _, preds = torch.max(outputs, 1)\n",
        "        correct_predictions += (preds == labels).sum().item()\n",
        "        total_predictions += labels.size(0)\n",
        "\n",
        "    epoch_loss = running_loss / len(train_loader)\n",
        "    epoch_accuracy = correct_predictions / total_predictions\n",
        "    print(f\"Epoch [{epoch+1}/{num_epochs}], Loss: {epoch_loss:.4f}, Accuracy: {epoch_accuracy:.4f}\")\n",
        "\n",
        "    model.eval()\n",
        "    val_loss = 0.0\n",
        "    correct_val_predictions = 0\n",
        "    total_val_predictions = 0\n",
        "\n",
        "    with torch.no_grad():\n",
        "        for images, labels in val_loader:\n",
        "            images, labels = images.to(device), labels.to(device)\n",
        "            outputs = model(images).logits\n",
        "            loss = criterion(outputs, labels)\n",
        "\n",
        "            val_loss += loss.item()\n",
        "            _, preds = torch.max(outputs, 1)\n",
        "            correct_val_predictions += (preds == labels).sum().item()\n",
        "            total_val_predictions += labels.size(0)\n",
        "\n",
        "    val_loss /= len(val_loader)\n",
        "    val_accuracy = correct_val_predictions / total_val_predictions\n",
        "    print(f\"Validation Loss: {val_loss:.4f}, Validation Accuracy: {val_accuracy:.4f}\\n\")\n",
        "\n",
        "    scheduler.step(val_accuracy)\n",
        "\n",
        "    if val_accuracy > best_val_accuracy or (val_accuracy == best_val_accuracy and epoch_accuracy > best_train_accuracy):\n",
        "        best_val_accuracy = val_accuracy\n",
        "        best_train_accuracy = epoch_accuracy\n",
        "        epochs_no_improve = 0\n",
        "        torch.save(model.state_dict(), \"best_model.pth\")\n",
        "        print(\"Validation accuracy improved or training accuracy improved with same validation accuracy; model saved.\\n\")\n",
        "    else:\n",
        "        epochs_no_improve += 1\n",
        "        if epochs_no_improve >= patience:\n",
        "            print(f\"No improvement in validation accuracy or training accuracy for {patience} epochs. Early stopping.\\n\")\n",
        "            early_stop = True"
      ]
    },
    {
      "cell_type": "code",
      "execution_count": null,
      "metadata": {
        "id": "v7StRxRE4N5g"
      },
      "outputs": [],
      "source": [
        "import matplotlib.pyplot as plt\n",
        "\n",
        "epochs = list(range(1, 45))\n",
        "train_accuracy = [\n",
        "    0.1886, 0.5943, 0.7893, 0.8914, 0.9311, 0.9754, 0.9879, 0.9814, 0.9857, 0.9839,\n",
        "    0.9825, 0.9896, 0.9921, 0.9932, 0.9936, 0.9943, 0.9954, 0.9950, 0.9957, 0.9954,\n",
        "    0.9943, 0.9929, 0.9939, 0.9939, 0.9939, 0.9950, 0.9939, 0.9950, 0.9964, 0.9957,\n",
        "    0.9946, 0.9932, 0.9943, 0.9939, 0.9954, 0.9950, 0.9939, 0.9964, 0.9950, 0.9939,\n",
        "    0.9957, 0.9957, 0.9954, 0.9961\n",
        "]\n",
        "val_accuracy = [\n",
        "    0.4150, 0.6325, 0.6800, 0.7075, 0.7150, 0.7275, 0.7275, 0.7325, 0.7275, 0.7200,\n",
        "    0.7125, 0.7150, 0.7500, 0.7275, 0.7300, 0.7225, 0.7500, 0.7400, 0.7400, 0.7325,\n",
        "    0.7425, 0.7500, 0.7500, 0.7500, 0.7550, 0.7500, 0.7525, 0.7525, 0.7550, 0.7450,\n",
        "    0.7550, 0.7525, 0.7500, 0.7500, 0.7500, 0.7500, 0.7500, 0.7500, 0.7500, 0.7500,\n",
        "    0.7500, 0.7500, 0.7500, 0.7500\n",
        "]\n",
        "\n",
        "\n",
        "plt.figure(figsize=(10, 6))\n",
        "plt.plot(epochs, train_accuracy, label='Training Accuracy', marker='o')\n",
        "plt.plot(epochs, val_accuracy, label='Validation Accuracy', marker='x')\n",
        "\n",
        "plt.axvline(x=25, color='orange', linestyle='--', label='Fluctuation starts')\n",
        "plt.axvline(x=29, color='green', linestyle='--', label='Best Model Saved at Epoch 29')\n",
        "plt.axvline(x=33, color='red', linestyle='--', label='True Plateau starts')\n",
        "\n",
        "plt.xlabel('Epochs')\n",
        "plt.ylabel('Accuracy')\n",
        "plt.title('Training and Validation Accuracy Over Epochs')\n",
        "plt.legend()\n",
        "plt.grid()\n",
        "\n",
        "plt.tight_layout()\n",
        "plt.savefig('Epoch History.png')\n",
        "plt.show()"
      ]
    },
    {
      "cell_type": "code",
      "execution_count": null,
      "metadata": {
        "colab": {
          "base_uri": "https://localhost:8080/",
          "height": 671
        },
        "id": "c76QlRVevd_6",
        "outputId": "2e54689e-c213-4f00-834a-a7d80a401464"
      },
      "outputs": [
        {
          "name": "stdout",
          "output_type": "stream",
          "text": [
            "\u001b[1;32mEncrypting\u001b[0m 'FoodSnap_V50': 100%|██████████| 106M/106M [00:00<00:00, 280MB/s] \n",
            "\u001b[1;33mUploading\u001b[0m 'FoodSnap_V50': 100%|██████████| 97.5M/97.5M [01:08<00:00, 1.49MB/s]\n",
            "Updating registry: 100%|██████████| 1/1 [00:02<00:00]\n"
          ]
        },
        {
          "data": {
            "text/html": [
              "<div style=\"margin: 0; padding: 5px; line-height: 1.75; font-size: 14px; vertical-align: baseline; list-style: none; font-family: Roboto, Arial, sans-serif; background: none;\">\n",
              "  Success: 1 model added to the registry.\n",
              "</div>"
            ],
            "text/plain": [
              "<IPython.core.display.HTML object>"
            ]
          },
          "metadata": {},
          "output_type": "display_data"
        },
        {
          "name": "stdout",
          "output_type": "stream",
          "text": [
            "Model 'FoodSnap_V50' has been deployed to Modelbit.\n",
            "Classification Report:\n",
            "                              precision    recall  f1-score   support\n",
            "\n",
            "                   adhirasam       0.42      0.56      0.48         9\n",
            "                   aloo_gobi       0.73      0.92      0.81        12\n",
            "                  aloo_matar       0.69      0.69      0.69        13\n",
            "                  aloo_methi       1.00      1.00      1.00         9\n",
            "           aloo_shimla_mirch       0.58      0.78      0.67         9\n",
            "                  aloo_tikki       0.88      0.88      0.88         8\n",
            "                      anarsa       0.78      0.70      0.74        10\n",
            "                     ariselu       0.64      0.58      0.61        12\n",
            "                bandar_laddu       1.00      0.90      0.95        10\n",
            "                     basundi       0.56      0.50      0.53        10\n",
            "                     bhatura       0.92      0.92      0.92        13\n",
            "               bhindi_masala       0.93      1.00      0.96        13\n",
            "                     biryani       1.00      1.00      1.00        13\n",
            "                      boondi       1.00      1.00      1.00        10\n",
            "              butter_chicken       0.60      0.25      0.35        12\n",
            "              chak_hao_kheer       0.82      0.75      0.78        12\n",
            "                   cham_cham       0.62      0.38      0.48        13\n",
            "                chana_masala       0.92      0.86      0.89        14\n",
            "                     chapati       0.75      0.75      0.75        12\n",
            "               chhena_kheeri       0.33      0.17      0.22         6\n",
            "              chicken_razala       0.73      1.00      0.84         8\n",
            "               chicken_tikka       0.44      0.57      0.50         7\n",
            "        chicken_tikka_masala       0.19      0.38      0.25         8\n",
            "                      chikki       1.00      0.90      0.95        10\n",
            "           daal_baati_churma       0.88      0.64      0.74        11\n",
            "                   daal_puri       0.62      0.50      0.56        10\n",
            "                 dal_makhani       1.00      1.00      1.00         9\n",
            "                   dal_tadka       0.90      0.90      0.90        10\n",
            "               dharwad_pedha       1.00      0.64      0.78        14\n",
            "                    doodhpak       0.50      0.33      0.40         9\n",
            "            double_ka_meetha       0.69      0.75      0.72        12\n",
            "                    dum_aloo       0.80      0.50      0.62         8\n",
            "              gajar_ka_halwa       0.80      1.00      0.89         8\n",
            "                     gavvalu       0.78      0.88      0.82         8\n",
            "                      ghevar       0.88      0.94      0.91        16\n",
            "                 gulab_jamun       0.86      1.00      0.92        12\n",
            "                      imarti       1.00      0.88      0.93         8\n",
            "                      jalebi       0.80      1.00      0.89         4\n",
            "                     kachori       0.56      0.83      0.67         6\n",
            "                kadai_paneer       0.50      0.30      0.38        10\n",
            "                kadhi_pakoda       0.89      0.62      0.73        13\n",
            "                   kajjikaya       0.56      0.50      0.53        10\n",
            "              kakinada_khaja       0.80      1.00      0.89         8\n",
            "                    kalakand       0.58      0.70      0.64        10\n",
            "               karela_bharta       1.00      0.50      0.67        12\n",
            "                       kofta       0.78      0.88      0.82         8\n",
            "             kuzhi_paniyaram       0.77      1.00      0.87        10\n",
            "                       lassi       1.00      1.00      1.00        10\n",
            "                    ledikeni       1.00      0.56      0.71         9\n",
            "                litti_chokha       0.71      0.83      0.77         6\n",
            "                    lyangcha       0.70      0.78      0.74         9\n",
            "                  maach_jhol       0.89      0.89      0.89         9\n",
            "makki_di_roti_sarson_da_saag       0.93      0.93      0.93        14\n",
            "                     malapua       0.38      0.33      0.35         9\n",
            "                   misi_roti       0.80      0.67      0.73         6\n",
            "                   misti_doi       0.67      0.86      0.75        14\n",
            "                       modak       0.92      0.92      0.92        12\n",
            "                  mysore_pak       0.82      0.75      0.78        12\n",
            "                        naan       0.78      1.00      0.88         7\n",
            "             navrattan_korma       0.50      0.75      0.60         4\n",
            "                palak_paneer       1.00      0.88      0.93         8\n",
            "        paneer_butter_masala       0.77      0.91      0.83        11\n",
            "                      phirni       0.57      0.36      0.44        11\n",
            "                       pithe       0.40      0.67      0.50         3\n",
            "                        poha       0.90      1.00      0.95         9\n",
            "                    poornalu       0.78      0.88      0.82         8\n",
            "                pootharekulu       0.70      0.78      0.74         9\n",
            "            qubani_ka_meetha       0.75      0.75      0.75         8\n",
            "                       rabri       0.67      0.47      0.55        17\n",
            "                   ras_malai       0.33      0.60      0.43         5\n",
            "                    rasgulla       0.60      1.00      0.75         9\n",
            "                     sandesh       1.00      0.38      0.56        13\n",
            "                 shankarpali       0.89      0.89      0.89         9\n",
            "                 sheer_korma       0.80      1.00      0.89        12\n",
            "                      sheera       0.60      1.00      0.75         9\n",
            "                   shrikhand       0.67      0.50      0.57        12\n",
            "                 sohan_halwa       0.57      0.67      0.62         6\n",
            "                 sohan_papdi       0.78      0.82      0.80        17\n",
            "                  sutar_feni       0.86      1.00      0.92        12\n",
            "                  unni_appam       0.83      0.83      0.83        12\n",
            "\n",
            "                    accuracy                           0.75       800\n",
            "                   macro avg       0.75      0.75      0.74       800\n",
            "                weighted avg       0.77      0.75      0.75       800\n",
            "\n"
          ]
        }
      ],
      "source": [
        "import time\n",
        "from sklearn.metrics import classification_report, confusion_matrix\n",
        "\n",
        "best_model = SwinForImageClassification.from_pretrained(\"microsoft/swin-tiny-patch4-window7-224\")\n",
        "best_model.classifier = nn.Sequential(\n",
        "    nn.Dropout(0.3),\n",
        "    nn.Linear(best_model.classifier.in_features, 80)\n",
        ")\n",
        "state_dict = torch.load(\"best_model.pth\", weights_only=True)\n",
        "best_model.load_state_dict(state_dict)\n",
        "\n",
        "Deploying_Model_to_modelbit(best_model,\"FoodSnap_V50\")\n",
        "\n",
        "device = torch.device(\"cuda\" if torch.cuda.is_available() else \"cpu\")\n",
        "best_model.to(device)\n",
        "best_model.eval()\n",
        "\n",
        "test_preds = []\n",
        "test_labels = []\n",
        "start_time = time.time()\n",
        "\n",
        "with torch.no_grad():\n",
        "    for images, labels in test_loader:\n",
        "        images, labels = images.to(device), labels.to(device)\n",
        "        outputs = best_model(images).logits\n",
        "        _, preds = torch.max(outputs, 1)\n",
        "\n",
        "        test_preds.extend(preds.cpu().numpy())\n",
        "        test_labels.extend(labels.cpu().numpy())\n",
        "\n",
        "end_time = time.time()\n",
        "\n",
        "test_report = classification_report(test_labels, test_preds, target_names=categories, zero_division=0)\n",
        "print(\"Classification Report:\")\n",
        "print(test_report)"
      ]
    },
    {
      "cell_type": "code",
      "execution_count": null,
      "metadata": {
        "id": "sBOx35tj4N5g",
        "outputId": "222d2a99-f540-440d-f5ce-20d02840aef7"
      },
      "outputs": [
        {
          "name": "stdout",
          "output_type": "stream",
          "text": [
            "Test Accuracy: 75.38%\n"
          ]
        }
      ],
      "source": [
        "correct_predictions = np.sum(np.array(test_preds) == np.array(test_labels))\n",
        "total_predictions = len(test_labels)\n",
        "\n",
        "test_accuracy = correct_predictions / total_predictions\n",
        "print(f\"Test Accuracy: {test_accuracy * 100:.2f}%\")"
      ]
    },
    {
      "cell_type": "code",
      "execution_count": null,
      "metadata": {
        "id": "DZMZOJOo4N5h"
      },
      "outputs": [],
      "source": [
        "test_conf_matrix = confusion_matrix(test_labels, test_preds)\n",
        "test_conf_matrix_normalized = test_conf_matrix.astype('float') / test_conf_matrix.sum(axis=1)[:, np.newaxis]\n",
        "\n",
        "precision = np.diag(test_conf_matrix) / np.sum(test_conf_matrix, axis=0)\n",
        "recall = np.diag(test_conf_matrix) / np.sum(test_conf_matrix, axis=1)\n",
        "f1 = 2 * (precision * recall) / (precision + recall)\n",
        "\n",
        "fig = make_subplots(\n",
        "    rows=2, cols=1,\n",
        "    subplot_titles=(\"Normalized Confusion Matrix\", \"Per-class Performance Metrics\"),\n",
        "    vertical_spacing=0.15,\n",
        "    row_heights=[0.6, 0.4]\n",
        ")\n",
        "\n",
        "fig.add_trace(\n",
        "    go.Heatmap(\n",
        "        z=test_conf_matrix_normalized,\n",
        "        x=categories,\n",
        "        y=categories,\n",
        "        colorscale='Blues',\n",
        "        colorbar=dict(\n",
        "            title=\"Normalized Value\",\n",
        "            y=0.8,\n",
        "            len=0.5\n",
        "        ),\n",
        "        hoverongaps=False,\n",
        "        hovertemplate=\"True: %{y}<br>Predicted: %{x}<br>Value: %{z:.2f}<extra></extra>\",\n",
        "        zmin=0,\n",
        "        zmax=1\n",
        "    ),\n",
        "    row=1, col=1\n",
        ")\n",
        "\n",
        "fig.add_trace(\n",
        "    go.Bar(\n",
        "        name='Precision',\n",
        "        x=categories,\n",
        "        y=precision,\n",
        "        marker_color='royalblue',\n",
        "        width=0.2,\n",
        "        offset=-0.2,\n",
        "        hovertemplate=\"Category: %{x}<br>Precision: %{y:.2f}<extra></extra>\"\n",
        "    ),\n",
        "    row=2, col=1\n",
        ")\n",
        "\n",
        "fig.add_trace(\n",
        "    go.Bar(\n",
        "        name='Recall',\n",
        "        x=categories,\n",
        "        y=recall,\n",
        "        marker_color='lightgreen',\n",
        "        width=0.2,\n",
        "        offset=0,\n",
        "        hovertemplate=\"Category: %{x}<br>Recall: %{y:.2f}<extra></extra>\"\n",
        "    ),\n",
        "    row=2, col=1\n",
        ")\n",
        "\n",
        "fig.add_trace(\n",
        "    go.Bar(\n",
        "        name='F1-Score',\n",
        "        x=categories,\n",
        "        y=f1,\n",
        "        marker_color='salmon',\n",
        "        width=0.2,\n",
        "        offset=0.2,\n",
        "        hovertemplate=\"Category: %{x}<br>F1-Score: %{y:.2f}<extra></extra>\"\n",
        "    ),\n",
        "    row=2, col=1\n",
        ")\n",
        "\n",
        "fig.update_layout(\n",
        "    height=1200,\n",
        "    width=1200,\n",
        "    showlegend=True,\n",
        "    title={\n",
        "        'text': \"Model Evaluation Dashboard\",\n",
        "        'y':0.95,\n",
        "        'x':0.5,\n",
        "        'xanchor': 'center',\n",
        "        'yanchor': 'top',\n",
        "        'font': dict(size=24)\n",
        "    },\n",
        "    barmode='group'\n",
        ")\n",
        "\n",
        "fig.update_xaxes(\n",
        "    title_text=\"Predicted Label\",\n",
        "    row=1,\n",
        "    col=1,\n",
        "    tickangle=45,\n",
        "    tickfont=dict(size=10)\n",
        ")\n",
        "fig.update_yaxes(\n",
        "    title_text=\"True Label\",\n",
        "    row=1,\n",
        "    col=1,\n",
        "    tickfont=dict(size=10)\n",
        ")\n",
        "fig.update_xaxes(\n",
        "    title_text=\"Categories\",\n",
        "    row=2,\n",
        "    col=1,\n",
        "    tickangle=45,\n",
        "    tickfont=dict(size=10)\n",
        ")\n",
        "fig.update_yaxes(\n",
        "    title_text=\"Score\",\n",
        "    row=2,\n",
        "    col=1\n",
        ")\n",
        "\n",
        "fig.show()\n",
        "\n",
        "fig.write_html(\"model_evaluation.html\")"
      ]
    },
    {
      "cell_type": "code",
      "execution_count": null,
      "metadata": {
        "id": "K4oWakyP4N5h",
        "outputId": "6b597c28-b366-4cba-c61c-f879c0df1f33"
      },
      "outputs": [
        {
          "data": {
            "text/html": [
              "<div style=\"margin: 0; padding: 5px; line-height: 1.75; font-size: 14px; vertical-align: baseline; list-style: none; font-family: Roboto, Arial, sans-serif; background: none;\">\n",
              "  <span style=\"margin: 0; padding: 0; line-height: 1.75; font-size: 14px; vertical-align: baseline; list-style: none; font-family: Roboto, Arial, sans-serif; background: none; color: #E2548A; font-weight: bold;\">Error:</span>\n",
              "  path is on mount &#39;C:&#39;, start on mount &#39;d:&#39;\n",
              "</div>"
            ],
            "text/plain": [
              "<IPython.core.display.HTML object>"
            ]
          },
          "metadata": {},
          "output_type": "display_data"
        }
      ],
      "source": [
        "import torch\n",
        "import modelbit\n",
        "from transformers import AutoModelForImageClassification, AutoProcessor\n",
        "from torchvision import transforms\n",
        "from PIL import Image\n",
        "import io\n",
        "import base64\n",
        "\n",
        "def FoodSnap_Prediction_v50(image_input):\n",
        "    categories = [\n",
        "        'adhirasam', 'aloo_gobi', 'aloo_matar', 'aloo_methi', 'aloo_shimla_mirch',\n",
        "        'aloo_tikki', 'anarsa', 'ariselu', 'bandar_laddu', 'basundi', 'bhatura',\n",
        "        'bhindi_masala', 'biryani', 'boondi', 'butter_chicken', 'chak_hao_kheer',\n",
        "        'cham_cham', 'chana_masala', 'chapati', 'chhena_kheeri', 'chicken_razala',\n",
        "        'chicken_tikka', 'chicken_tikka_masala', 'chikki', 'daal_baati_churma',\n",
        "        'daal_puri', 'dal_makhani', 'dal_tadka', 'dharwad_pedha', 'doodhpak',\n",
        "        'double_ka_meetha', 'dum_aloo', 'gajar_ka_halwa', 'gavvalu', 'ghevar',\n",
        "        'gulab_jamun', 'imarti', 'jalebi', 'kachori', 'kadai_paneer',\n",
        "        'kadhi_pakoda', 'kajjikaya', 'kakinada_khaja', 'kalakand', 'karela_bharta',\n",
        "        'kofta', 'kuzhi_paniyaram', 'lassi', 'ledikeni', 'litti_chokha',\n",
        "        'lyangcha', 'maach_jhol', 'makki_di_roti_sarson_da_saag', 'malapua',\n",
        "        'misi_roti', 'misti_doi', 'modak', 'mysore_pak', 'naan', 'navrattan_korma',\n",
        "        'palak_paneer', 'paneer_butter_masala', 'phirni', 'pithe', 'poha',\n",
        "        'poornalu', 'pootharekulu', 'qubani_ka_meetha', 'rabri', 'ras_malai',\n",
        "        'rasgulla', 'sandesh', 'shankarpali', 'sheer_korma', 'sheera',\n",
        "        'shrikhand', 'sohan_halwa', 'sohan_papdi', 'sutar_feni', 'unni_appam'\n",
        "    ]\n",
        "    transform = transforms.Compose([\n",
        "        transforms.Resize(256),\n",
        "        transforms.CenterCrop(224),\n",
        "        transforms.ToTensor(),\n",
        "        transforms.Normalize(mean=[0.485, 0.456, 0.406], std=[0.229, 0.224, 0.225])\n",
        "    ])\n",
        "    model = modelbit.get_model(\"FoodSnap_V50\")\n",
        "    model.eval()\n",
        "\n",
        "    if isinstance(image_input, str):\n",
        "        image_data = base64.b64decode(image_input)\n",
        "        image = Image.open(io.BytesIO(image_data)).convert(\"RGB\")\n",
        "    elif isinstance(image_input, bytes):\n",
        "        image = Image.open(io.BytesIO(image_input)).convert(\"RGB\")\n",
        "    else:\n",
        "        raise ValueError(\"The input should be a base64 string (str) or raw image bytes (bytes).\")\n",
        "\n",
        "    image_tensor = transform(image).unsqueeze(0)\n",
        "\n",
        "    with torch.no_grad():\n",
        "        outputs = model(image_tensor).logits\n",
        "\n",
        "    _, predicted_class = torch.max(outputs, 1)\n",
        "    prediction_prob = torch.nn.functional.softmax(outputs, dim=1)[0, predicted_class].item()\n",
        "    predicted_label = categories[predicted_class.item()]\n",
        "\n",
        "    return predicted_label, prediction_prob\n",
        "\n",
        "modelbit.deploy(FoodSnap_Prediction_v50, python_packages=[\"transformers==4.44.2\"])"
      ]
    }
  ],
  "metadata": {
    "accelerator": "GPU",
    "colab": {
      "gpuType": "T4",
      "provenance": []
    },
    "kernelspec": {
      "display_name": ".venv",
      "language": "python",
      "name": "python3"
    },
    "language_info": {
      "codemirror_mode": {
        "name": "ipython",
        "version": 3
      },
      "file_extension": ".py",
      "mimetype": "text/x-python",
      "name": "python",
      "nbconvert_exporter": "python",
      "pygments_lexer": "ipython3",
      "version": "3.12.7"
    },
    "widgets": {
      "application/vnd.jupyter.widget-state+json": {
        "15b706865ac143b0bae856b781fda325": {
          "model_module": "@jupyter-widgets/base",
          "model_module_version": "1.2.0",
          "model_name": "LayoutModel",
          "state": {
            "_model_module": "@jupyter-widgets/base",
            "_model_module_version": "1.2.0",
            "_model_name": "LayoutModel",
            "_view_count": null,
            "_view_module": "@jupyter-widgets/base",
            "_view_module_version": "1.2.0",
            "_view_name": "LayoutView",
            "align_content": null,
            "align_items": null,
            "align_self": null,
            "border": null,
            "bottom": null,
            "display": null,
            "flex": null,
            "flex_flow": null,
            "grid_area": null,
            "grid_auto_columns": null,
            "grid_auto_flow": null,
            "grid_auto_rows": null,
            "grid_column": null,
            "grid_gap": null,
            "grid_row": null,
            "grid_template_areas": null,
            "grid_template_columns": null,
            "grid_template_rows": null,
            "height": null,
            "justify_content": null,
            "justify_items": null,
            "left": null,
            "margin": null,
            "max_height": null,
            "max_width": null,
            "min_height": null,
            "min_width": null,
            "object_fit": null,
            "object_position": null,
            "order": null,
            "overflow": null,
            "overflow_x": null,
            "overflow_y": null,
            "padding": null,
            "right": null,
            "top": null,
            "visibility": null,
            "width": null
          }
        },
        "1fd46543cc2b40ac857c6c93ccbabb8d": {
          "model_module": "@jupyter-widgets/base",
          "model_module_version": "1.2.0",
          "model_name": "LayoutModel",
          "state": {
            "_model_module": "@jupyter-widgets/base",
            "_model_module_version": "1.2.0",
            "_model_name": "LayoutModel",
            "_view_count": null,
            "_view_module": "@jupyter-widgets/base",
            "_view_module_version": "1.2.0",
            "_view_name": "LayoutView",
            "align_content": null,
            "align_items": null,
            "align_self": null,
            "border": null,
            "bottom": null,
            "display": null,
            "flex": null,
            "flex_flow": null,
            "grid_area": null,
            "grid_auto_columns": null,
            "grid_auto_flow": null,
            "grid_auto_rows": null,
            "grid_column": null,
            "grid_gap": null,
            "grid_row": null,
            "grid_template_areas": null,
            "grid_template_columns": null,
            "grid_template_rows": null,
            "height": null,
            "justify_content": null,
            "justify_items": null,
            "left": null,
            "margin": null,
            "max_height": null,
            "max_width": null,
            "min_height": null,
            "min_width": null,
            "object_fit": null,
            "object_position": null,
            "order": null,
            "overflow": null,
            "overflow_x": null,
            "overflow_y": null,
            "padding": null,
            "right": null,
            "top": null,
            "visibility": null,
            "width": null
          }
        },
        "233679f64a124bd2ae2d064bd6aa1636": {
          "model_module": "@jupyter-widgets/base",
          "model_module_version": "1.2.0",
          "model_name": "LayoutModel",
          "state": {
            "_model_module": "@jupyter-widgets/base",
            "_model_module_version": "1.2.0",
            "_model_name": "LayoutModel",
            "_view_count": null,
            "_view_module": "@jupyter-widgets/base",
            "_view_module_version": "1.2.0",
            "_view_name": "LayoutView",
            "align_content": null,
            "align_items": null,
            "align_self": null,
            "border": null,
            "bottom": null,
            "display": null,
            "flex": null,
            "flex_flow": null,
            "grid_area": null,
            "grid_auto_columns": null,
            "grid_auto_flow": null,
            "grid_auto_rows": null,
            "grid_column": null,
            "grid_gap": null,
            "grid_row": null,
            "grid_template_areas": null,
            "grid_template_columns": null,
            "grid_template_rows": null,
            "height": null,
            "justify_content": null,
            "justify_items": null,
            "left": null,
            "margin": null,
            "max_height": null,
            "max_width": null,
            "min_height": null,
            "min_width": null,
            "object_fit": null,
            "object_position": null,
            "order": null,
            "overflow": null,
            "overflow_x": null,
            "overflow_y": null,
            "padding": null,
            "right": null,
            "top": null,
            "visibility": null,
            "width": null
          }
        },
        "24a0f15da3d74e7087a1ce3a825bd1a2": {
          "model_module": "@jupyter-widgets/controls",
          "model_module_version": "1.5.0",
          "model_name": "HBoxModel",
          "state": {
            "_dom_classes": [],
            "_model_module": "@jupyter-widgets/controls",
            "_model_module_version": "1.5.0",
            "_model_name": "HBoxModel",
            "_view_count": null,
            "_view_module": "@jupyter-widgets/controls",
            "_view_module_version": "1.5.0",
            "_view_name": "HBoxView",
            "box_style": "",
            "children": [
              "IPY_MODEL_5034eb982ee647c2a0eaba7ad9b62c02",
              "IPY_MODEL_c5e91322ae3e4d35b456526bc123c2df",
              "IPY_MODEL_5afdcf8035e248d782a567beafa25e8e"
            ],
            "layout": "IPY_MODEL_40363461fc8a40568a3e62cd379a5fbe"
          }
        },
        "300719cff2f540989bbee9a10ef588f8": {
          "model_module": "@jupyter-widgets/base",
          "model_module_version": "1.2.0",
          "model_name": "LayoutModel",
          "state": {
            "_model_module": "@jupyter-widgets/base",
            "_model_module_version": "1.2.0",
            "_model_name": "LayoutModel",
            "_view_count": null,
            "_view_module": "@jupyter-widgets/base",
            "_view_module_version": "1.2.0",
            "_view_name": "LayoutView",
            "align_content": null,
            "align_items": null,
            "align_self": null,
            "border": null,
            "bottom": null,
            "display": null,
            "flex": null,
            "flex_flow": null,
            "grid_area": null,
            "grid_auto_columns": null,
            "grid_auto_flow": null,
            "grid_auto_rows": null,
            "grid_column": null,
            "grid_gap": null,
            "grid_row": null,
            "grid_template_areas": null,
            "grid_template_columns": null,
            "grid_template_rows": null,
            "height": null,
            "justify_content": null,
            "justify_items": null,
            "left": null,
            "margin": null,
            "max_height": null,
            "max_width": null,
            "min_height": null,
            "min_width": null,
            "object_fit": null,
            "object_position": null,
            "order": null,
            "overflow": null,
            "overflow_x": null,
            "overflow_y": null,
            "padding": null,
            "right": null,
            "top": null,
            "visibility": null,
            "width": null
          }
        },
        "34faef7c8a4243a1aabf968157738290": {
          "model_module": "@jupyter-widgets/controls",
          "model_module_version": "1.5.0",
          "model_name": "DescriptionStyleModel",
          "state": {
            "_model_module": "@jupyter-widgets/controls",
            "_model_module_version": "1.5.0",
            "_model_name": "DescriptionStyleModel",
            "_view_count": null,
            "_view_module": "@jupyter-widgets/base",
            "_view_module_version": "1.2.0",
            "_view_name": "StyleView",
            "description_width": ""
          }
        },
        "34fef1f6e0584b09b378ecbbd5bd3752": {
          "model_module": "@jupyter-widgets/base",
          "model_module_version": "1.2.0",
          "model_name": "LayoutModel",
          "state": {
            "_model_module": "@jupyter-widgets/base",
            "_model_module_version": "1.2.0",
            "_model_name": "LayoutModel",
            "_view_count": null,
            "_view_module": "@jupyter-widgets/base",
            "_view_module_version": "1.2.0",
            "_view_name": "LayoutView",
            "align_content": null,
            "align_items": null,
            "align_self": null,
            "border": null,
            "bottom": null,
            "display": null,
            "flex": null,
            "flex_flow": null,
            "grid_area": null,
            "grid_auto_columns": null,
            "grid_auto_flow": null,
            "grid_auto_rows": null,
            "grid_column": null,
            "grid_gap": null,
            "grid_row": null,
            "grid_template_areas": null,
            "grid_template_columns": null,
            "grid_template_rows": null,
            "height": null,
            "justify_content": null,
            "justify_items": null,
            "left": null,
            "margin": null,
            "max_height": null,
            "max_width": null,
            "min_height": null,
            "min_width": null,
            "object_fit": null,
            "object_position": null,
            "order": null,
            "overflow": null,
            "overflow_x": null,
            "overflow_y": null,
            "padding": null,
            "right": null,
            "top": null,
            "visibility": null,
            "width": null
          }
        },
        "3eb5298082054ff19dadd247c0db25cc": {
          "model_module": "@jupyter-widgets/controls",
          "model_module_version": "1.5.0",
          "model_name": "FloatProgressModel",
          "state": {
            "_dom_classes": [],
            "_model_module": "@jupyter-widgets/controls",
            "_model_module_version": "1.5.0",
            "_model_name": "FloatProgressModel",
            "_view_count": null,
            "_view_module": "@jupyter-widgets/controls",
            "_view_module_version": "1.5.0",
            "_view_name": "ProgressView",
            "bar_style": "success",
            "description": "",
            "description_tooltip": null,
            "layout": "IPY_MODEL_74fc9aa5b9f54710aa22381a80bfa67e",
            "max": 71813,
            "min": 0,
            "orientation": "horizontal",
            "style": "IPY_MODEL_a0ba793bc7dc499f978bf001a8d5006d",
            "value": 71813
          }
        },
        "40363461fc8a40568a3e62cd379a5fbe": {
          "model_module": "@jupyter-widgets/base",
          "model_module_version": "1.2.0",
          "model_name": "LayoutModel",
          "state": {
            "_model_module": "@jupyter-widgets/base",
            "_model_module_version": "1.2.0",
            "_model_name": "LayoutModel",
            "_view_count": null,
            "_view_module": "@jupyter-widgets/base",
            "_view_module_version": "1.2.0",
            "_view_name": "LayoutView",
            "align_content": null,
            "align_items": null,
            "align_self": null,
            "border": null,
            "bottom": null,
            "display": null,
            "flex": null,
            "flex_flow": null,
            "grid_area": null,
            "grid_auto_columns": null,
            "grid_auto_flow": null,
            "grid_auto_rows": null,
            "grid_column": null,
            "grid_gap": null,
            "grid_row": null,
            "grid_template_areas": null,
            "grid_template_columns": null,
            "grid_template_rows": null,
            "height": null,
            "justify_content": null,
            "justify_items": null,
            "left": null,
            "margin": null,
            "max_height": null,
            "max_width": null,
            "min_height": null,
            "min_width": null,
            "object_fit": null,
            "object_position": null,
            "order": null,
            "overflow": null,
            "overflow_x": null,
            "overflow_y": null,
            "padding": null,
            "right": null,
            "top": null,
            "visibility": null,
            "width": null
          }
        },
        "49e12719a4324e88933d2b07eb445c4d": {
          "model_module": "@jupyter-widgets/controls",
          "model_module_version": "1.5.0",
          "model_name": "DescriptionStyleModel",
          "state": {
            "_model_module": "@jupyter-widgets/controls",
            "_model_module_version": "1.5.0",
            "_model_name": "DescriptionStyleModel",
            "_view_count": null,
            "_view_module": "@jupyter-widgets/base",
            "_view_module_version": "1.2.0",
            "_view_name": "StyleView",
            "description_width": ""
          }
        },
        "5034eb982ee647c2a0eaba7ad9b62c02": {
          "model_module": "@jupyter-widgets/controls",
          "model_module_version": "1.5.0",
          "model_name": "HTMLModel",
          "state": {
            "_dom_classes": [],
            "_model_module": "@jupyter-widgets/controls",
            "_model_module_version": "1.5.0",
            "_model_name": "HTMLModel",
            "_view_count": null,
            "_view_module": "@jupyter-widgets/controls",
            "_view_module_version": "1.5.0",
            "_view_name": "HTMLView",
            "description": "",
            "description_tooltip": null,
            "layout": "IPY_MODEL_7939cd5797164aaaac98e66ac579add9",
            "placeholder": "​",
            "style": "IPY_MODEL_34faef7c8a4243a1aabf968157738290",
            "value": "model.safetensors: 100%"
          }
        },
        "5a3313aa725141ce8f25f4b1ee1b56db": {
          "model_module": "@jupyter-widgets/controls",
          "model_module_version": "1.5.0",
          "model_name": "FloatProgressModel",
          "state": {
            "_dom_classes": [],
            "_model_module": "@jupyter-widgets/controls",
            "_model_module_version": "1.5.0",
            "_model_name": "FloatProgressModel",
            "_view_count": null,
            "_view_module": "@jupyter-widgets/controls",
            "_view_module_version": "1.5.0",
            "_view_name": "ProgressView",
            "bar_style": "success",
            "description": "",
            "description_tooltip": null,
            "layout": "IPY_MODEL_15b706865ac143b0bae856b781fda325",
            "max": 255,
            "min": 0,
            "orientation": "horizontal",
            "style": "IPY_MODEL_9ec014d37207457eb2ad07e89bd7efb0",
            "value": 255
          }
        },
        "5afdcf8035e248d782a567beafa25e8e": {
          "model_module": "@jupyter-widgets/controls",
          "model_module_version": "1.5.0",
          "model_name": "HTMLModel",
          "state": {
            "_dom_classes": [],
            "_model_module": "@jupyter-widgets/controls",
            "_model_module_version": "1.5.0",
            "_model_name": "HTMLModel",
            "_view_count": null,
            "_view_module": "@jupyter-widgets/controls",
            "_view_module_version": "1.5.0",
            "_view_name": "HTMLView",
            "description": "",
            "description_tooltip": null,
            "layout": "IPY_MODEL_6bbff236aade4426907eb8f0be35e4af",
            "placeholder": "​",
            "style": "IPY_MODEL_c43ad345b3034c8e8417196521b333a7",
            "value": " 113M/113M [00:01&lt;00:00, 130MB/s]"
          }
        },
        "6bbff236aade4426907eb8f0be35e4af": {
          "model_module": "@jupyter-widgets/base",
          "model_module_version": "1.2.0",
          "model_name": "LayoutModel",
          "state": {
            "_model_module": "@jupyter-widgets/base",
            "_model_module_version": "1.2.0",
            "_model_name": "LayoutModel",
            "_view_count": null,
            "_view_module": "@jupyter-widgets/base",
            "_view_module_version": "1.2.0",
            "_view_name": "LayoutView",
            "align_content": null,
            "align_items": null,
            "align_self": null,
            "border": null,
            "bottom": null,
            "display": null,
            "flex": null,
            "flex_flow": null,
            "grid_area": null,
            "grid_auto_columns": null,
            "grid_auto_flow": null,
            "grid_auto_rows": null,
            "grid_column": null,
            "grid_gap": null,
            "grid_row": null,
            "grid_template_areas": null,
            "grid_template_columns": null,
            "grid_template_rows": null,
            "height": null,
            "justify_content": null,
            "justify_items": null,
            "left": null,
            "margin": null,
            "max_height": null,
            "max_width": null,
            "min_height": null,
            "min_width": null,
            "object_fit": null,
            "object_position": null,
            "order": null,
            "overflow": null,
            "overflow_x": null,
            "overflow_y": null,
            "padding": null,
            "right": null,
            "top": null,
            "visibility": null,
            "width": null
          }
        },
        "74fc9aa5b9f54710aa22381a80bfa67e": {
          "model_module": "@jupyter-widgets/base",
          "model_module_version": "1.2.0",
          "model_name": "LayoutModel",
          "state": {
            "_model_module": "@jupyter-widgets/base",
            "_model_module_version": "1.2.0",
            "_model_name": "LayoutModel",
            "_view_count": null,
            "_view_module": "@jupyter-widgets/base",
            "_view_module_version": "1.2.0",
            "_view_name": "LayoutView",
            "align_content": null,
            "align_items": null,
            "align_self": null,
            "border": null,
            "bottom": null,
            "display": null,
            "flex": null,
            "flex_flow": null,
            "grid_area": null,
            "grid_auto_columns": null,
            "grid_auto_flow": null,
            "grid_auto_rows": null,
            "grid_column": null,
            "grid_gap": null,
            "grid_row": null,
            "grid_template_areas": null,
            "grid_template_columns": null,
            "grid_template_rows": null,
            "height": null,
            "justify_content": null,
            "justify_items": null,
            "left": null,
            "margin": null,
            "max_height": null,
            "max_width": null,
            "min_height": null,
            "min_width": null,
            "object_fit": null,
            "object_position": null,
            "order": null,
            "overflow": null,
            "overflow_x": null,
            "overflow_y": null,
            "padding": null,
            "right": null,
            "top": null,
            "visibility": null,
            "width": null
          }
        },
        "7939cd5797164aaaac98e66ac579add9": {
          "model_module": "@jupyter-widgets/base",
          "model_module_version": "1.2.0",
          "model_name": "LayoutModel",
          "state": {
            "_model_module": "@jupyter-widgets/base",
            "_model_module_version": "1.2.0",
            "_model_name": "LayoutModel",
            "_view_count": null,
            "_view_module": "@jupyter-widgets/base",
            "_view_module_version": "1.2.0",
            "_view_name": "LayoutView",
            "align_content": null,
            "align_items": null,
            "align_self": null,
            "border": null,
            "bottom": null,
            "display": null,
            "flex": null,
            "flex_flow": null,
            "grid_area": null,
            "grid_auto_columns": null,
            "grid_auto_flow": null,
            "grid_auto_rows": null,
            "grid_column": null,
            "grid_gap": null,
            "grid_row": null,
            "grid_template_areas": null,
            "grid_template_columns": null,
            "grid_template_rows": null,
            "height": null,
            "justify_content": null,
            "justify_items": null,
            "left": null,
            "margin": null,
            "max_height": null,
            "max_width": null,
            "min_height": null,
            "min_width": null,
            "object_fit": null,
            "object_position": null,
            "order": null,
            "overflow": null,
            "overflow_x": null,
            "overflow_y": null,
            "padding": null,
            "right": null,
            "top": null,
            "visibility": null,
            "width": null
          }
        },
        "7fe2e2f66b5b4753b4e5a106b5518be7": {
          "model_module": "@jupyter-widgets/controls",
          "model_module_version": "1.5.0",
          "model_name": "DescriptionStyleModel",
          "state": {
            "_model_module": "@jupyter-widgets/controls",
            "_model_module_version": "1.5.0",
            "_model_name": "DescriptionStyleModel",
            "_view_count": null,
            "_view_module": "@jupyter-widgets/base",
            "_view_module_version": "1.2.0",
            "_view_name": "StyleView",
            "description_width": ""
          }
        },
        "84364961ea374886a4d629e87f9fe708": {
          "model_module": "@jupyter-widgets/controls",
          "model_module_version": "1.5.0",
          "model_name": "HBoxModel",
          "state": {
            "_dom_classes": [],
            "_model_module": "@jupyter-widgets/controls",
            "_model_module_version": "1.5.0",
            "_model_name": "HBoxModel",
            "_view_count": null,
            "_view_module": "@jupyter-widgets/controls",
            "_view_module_version": "1.5.0",
            "_view_name": "HBoxView",
            "box_style": "",
            "children": [
              "IPY_MODEL_a20ba58a7edb4350816cb45d7a9592c2",
              "IPY_MODEL_3eb5298082054ff19dadd247c0db25cc",
              "IPY_MODEL_e52b80c796d94bd2a300d1ec74fbee50"
            ],
            "layout": "IPY_MODEL_d4f9d4f0a1604135a42df60e4e09de93"
          }
        },
        "97e241f0130543aabf5ac450b9c7fd77": {
          "model_module": "@jupyter-widgets/base",
          "model_module_version": "1.2.0",
          "model_name": "LayoutModel",
          "state": {
            "_model_module": "@jupyter-widgets/base",
            "_model_module_version": "1.2.0",
            "_model_name": "LayoutModel",
            "_view_count": null,
            "_view_module": "@jupyter-widgets/base",
            "_view_module_version": "1.2.0",
            "_view_name": "LayoutView",
            "align_content": null,
            "align_items": null,
            "align_self": null,
            "border": null,
            "bottom": null,
            "display": null,
            "flex": null,
            "flex_flow": null,
            "grid_area": null,
            "grid_auto_columns": null,
            "grid_auto_flow": null,
            "grid_auto_rows": null,
            "grid_column": null,
            "grid_gap": null,
            "grid_row": null,
            "grid_template_areas": null,
            "grid_template_columns": null,
            "grid_template_rows": null,
            "height": null,
            "justify_content": null,
            "justify_items": null,
            "left": null,
            "margin": null,
            "max_height": null,
            "max_width": null,
            "min_height": null,
            "min_width": null,
            "object_fit": null,
            "object_position": null,
            "order": null,
            "overflow": null,
            "overflow_x": null,
            "overflow_y": null,
            "padding": null,
            "right": null,
            "top": null,
            "visibility": null,
            "width": null
          }
        },
        "9ec014d37207457eb2ad07e89bd7efb0": {
          "model_module": "@jupyter-widgets/controls",
          "model_module_version": "1.5.0",
          "model_name": "ProgressStyleModel",
          "state": {
            "_model_module": "@jupyter-widgets/controls",
            "_model_module_version": "1.5.0",
            "_model_name": "ProgressStyleModel",
            "_view_count": null,
            "_view_module": "@jupyter-widgets/base",
            "_view_module_version": "1.2.0",
            "_view_name": "StyleView",
            "bar_color": null,
            "description_width": ""
          }
        },
        "a0ba793bc7dc499f978bf001a8d5006d": {
          "model_module": "@jupyter-widgets/controls",
          "model_module_version": "1.5.0",
          "model_name": "ProgressStyleModel",
          "state": {
            "_model_module": "@jupyter-widgets/controls",
            "_model_module_version": "1.5.0",
            "_model_name": "ProgressStyleModel",
            "_view_count": null,
            "_view_module": "@jupyter-widgets/base",
            "_view_module_version": "1.2.0",
            "_view_name": "StyleView",
            "bar_color": null,
            "description_width": ""
          }
        },
        "a20ba58a7edb4350816cb45d7a9592c2": {
          "model_module": "@jupyter-widgets/controls",
          "model_module_version": "1.5.0",
          "model_name": "HTMLModel",
          "state": {
            "_dom_classes": [],
            "_model_module": "@jupyter-widgets/controls",
            "_model_module_version": "1.5.0",
            "_model_name": "HTMLModel",
            "_view_count": null,
            "_view_module": "@jupyter-widgets/controls",
            "_view_module_version": "1.5.0",
            "_view_name": "HTMLView",
            "description": "",
            "description_tooltip": null,
            "layout": "IPY_MODEL_300719cff2f540989bbee9a10ef588f8",
            "placeholder": "​",
            "style": "IPY_MODEL_d0e421d914ba4d94b33126f89e81b218",
            "value": "config.json: 100%"
          }
        },
        "b4ae86271a224eb6a6654d55ba141075": {
          "model_module": "@jupyter-widgets/controls",
          "model_module_version": "1.5.0",
          "model_name": "DescriptionStyleModel",
          "state": {
            "_model_module": "@jupyter-widgets/controls",
            "_model_module_version": "1.5.0",
            "_model_name": "DescriptionStyleModel",
            "_view_count": null,
            "_view_module": "@jupyter-widgets/base",
            "_view_module_version": "1.2.0",
            "_view_name": "StyleView",
            "description_width": ""
          }
        },
        "c43ad345b3034c8e8417196521b333a7": {
          "model_module": "@jupyter-widgets/controls",
          "model_module_version": "1.5.0",
          "model_name": "DescriptionStyleModel",
          "state": {
            "_model_module": "@jupyter-widgets/controls",
            "_model_module_version": "1.5.0",
            "_model_name": "DescriptionStyleModel",
            "_view_count": null,
            "_view_module": "@jupyter-widgets/base",
            "_view_module_version": "1.2.0",
            "_view_name": "StyleView",
            "description_width": ""
          }
        },
        "c5e91322ae3e4d35b456526bc123c2df": {
          "model_module": "@jupyter-widgets/controls",
          "model_module_version": "1.5.0",
          "model_name": "FloatProgressModel",
          "state": {
            "_dom_classes": [],
            "_model_module": "@jupyter-widgets/controls",
            "_model_module_version": "1.5.0",
            "_model_name": "FloatProgressModel",
            "_view_count": null,
            "_view_module": "@jupyter-widgets/controls",
            "_view_module_version": "1.5.0",
            "_view_name": "ProgressView",
            "bar_style": "success",
            "description": "",
            "description_tooltip": null,
            "layout": "IPY_MODEL_97e241f0130543aabf5ac450b9c7fd77",
            "max": 113412768,
            "min": 0,
            "orientation": "horizontal",
            "style": "IPY_MODEL_e73fdf99dcd841a480bd7019d0054f5d",
            "value": 113412768
          }
        },
        "d0e421d914ba4d94b33126f89e81b218": {
          "model_module": "@jupyter-widgets/controls",
          "model_module_version": "1.5.0",
          "model_name": "DescriptionStyleModel",
          "state": {
            "_model_module": "@jupyter-widgets/controls",
            "_model_module_version": "1.5.0",
            "_model_name": "DescriptionStyleModel",
            "_view_count": null,
            "_view_module": "@jupyter-widgets/base",
            "_view_module_version": "1.2.0",
            "_view_name": "StyleView",
            "description_width": ""
          }
        },
        "d4f9d4f0a1604135a42df60e4e09de93": {
          "model_module": "@jupyter-widgets/base",
          "model_module_version": "1.2.0",
          "model_name": "LayoutModel",
          "state": {
            "_model_module": "@jupyter-widgets/base",
            "_model_module_version": "1.2.0",
            "_model_name": "LayoutModel",
            "_view_count": null,
            "_view_module": "@jupyter-widgets/base",
            "_view_module_version": "1.2.0",
            "_view_name": "LayoutView",
            "align_content": null,
            "align_items": null,
            "align_self": null,
            "border": null,
            "bottom": null,
            "display": null,
            "flex": null,
            "flex_flow": null,
            "grid_area": null,
            "grid_auto_columns": null,
            "grid_auto_flow": null,
            "grid_auto_rows": null,
            "grid_column": null,
            "grid_gap": null,
            "grid_row": null,
            "grid_template_areas": null,
            "grid_template_columns": null,
            "grid_template_rows": null,
            "height": null,
            "justify_content": null,
            "justify_items": null,
            "left": null,
            "margin": null,
            "max_height": null,
            "max_width": null,
            "min_height": null,
            "min_width": null,
            "object_fit": null,
            "object_position": null,
            "order": null,
            "overflow": null,
            "overflow_x": null,
            "overflow_y": null,
            "padding": null,
            "right": null,
            "top": null,
            "visibility": null,
            "width": null
          }
        },
        "e1c98e3f8fd947009471a58939a6b124": {
          "model_module": "@jupyter-widgets/controls",
          "model_module_version": "1.5.0",
          "model_name": "HTMLModel",
          "state": {
            "_dom_classes": [],
            "_model_module": "@jupyter-widgets/controls",
            "_model_module_version": "1.5.0",
            "_model_name": "HTMLModel",
            "_view_count": null,
            "_view_module": "@jupyter-widgets/controls",
            "_view_module_version": "1.5.0",
            "_view_name": "HTMLView",
            "description": "",
            "description_tooltip": null,
            "layout": "IPY_MODEL_f9023ab6eed0493fb97dc57770fc85ff",
            "placeholder": "​",
            "style": "IPY_MODEL_b4ae86271a224eb6a6654d55ba141075",
            "value": " 255/255 [00:00&lt;00:00, 11.1kB/s]"
          }
        },
        "e52b80c796d94bd2a300d1ec74fbee50": {
          "model_module": "@jupyter-widgets/controls",
          "model_module_version": "1.5.0",
          "model_name": "HTMLModel",
          "state": {
            "_dom_classes": [],
            "_model_module": "@jupyter-widgets/controls",
            "_model_module_version": "1.5.0",
            "_model_name": "HTMLModel",
            "_view_count": null,
            "_view_module": "@jupyter-widgets/controls",
            "_view_module_version": "1.5.0",
            "_view_name": "HTMLView",
            "description": "",
            "description_tooltip": null,
            "layout": "IPY_MODEL_34fef1f6e0584b09b378ecbbd5bd3752",
            "placeholder": "​",
            "style": "IPY_MODEL_49e12719a4324e88933d2b07eb445c4d",
            "value": " 71.8k/71.8k [00:00&lt;00:00, 1.02MB/s]"
          }
        },
        "e619c9899bbe4260a5b251a50e87e70a": {
          "model_module": "@jupyter-widgets/controls",
          "model_module_version": "1.5.0",
          "model_name": "HBoxModel",
          "state": {
            "_dom_classes": [],
            "_model_module": "@jupyter-widgets/controls",
            "_model_module_version": "1.5.0",
            "_model_name": "HBoxModel",
            "_view_count": null,
            "_view_module": "@jupyter-widgets/controls",
            "_view_module_version": "1.5.0",
            "_view_name": "HBoxView",
            "box_style": "",
            "children": [
              "IPY_MODEL_f5661a6d44034acd99a4688bc5070fba",
              "IPY_MODEL_5a3313aa725141ce8f25f4b1ee1b56db",
              "IPY_MODEL_e1c98e3f8fd947009471a58939a6b124"
            ],
            "layout": "IPY_MODEL_233679f64a124bd2ae2d064bd6aa1636"
          }
        },
        "e73fdf99dcd841a480bd7019d0054f5d": {
          "model_module": "@jupyter-widgets/controls",
          "model_module_version": "1.5.0",
          "model_name": "ProgressStyleModel",
          "state": {
            "_model_module": "@jupyter-widgets/controls",
            "_model_module_version": "1.5.0",
            "_model_name": "ProgressStyleModel",
            "_view_count": null,
            "_view_module": "@jupyter-widgets/base",
            "_view_module_version": "1.2.0",
            "_view_name": "StyleView",
            "bar_color": null,
            "description_width": ""
          }
        },
        "f5661a6d44034acd99a4688bc5070fba": {
          "model_module": "@jupyter-widgets/controls",
          "model_module_version": "1.5.0",
          "model_name": "HTMLModel",
          "state": {
            "_dom_classes": [],
            "_model_module": "@jupyter-widgets/controls",
            "_model_module_version": "1.5.0",
            "_model_name": "HTMLModel",
            "_view_count": null,
            "_view_module": "@jupyter-widgets/controls",
            "_view_module_version": "1.5.0",
            "_view_name": "HTMLView",
            "description": "",
            "description_tooltip": null,
            "layout": "IPY_MODEL_1fd46543cc2b40ac857c6c93ccbabb8d",
            "placeholder": "​",
            "style": "IPY_MODEL_7fe2e2f66b5b4753b4e5a106b5518be7",
            "value": "preprocessor_config.json: 100%"
          }
        },
        "f9023ab6eed0493fb97dc57770fc85ff": {
          "model_module": "@jupyter-widgets/base",
          "model_module_version": "1.2.0",
          "model_name": "LayoutModel",
          "state": {
            "_model_module": "@jupyter-widgets/base",
            "_model_module_version": "1.2.0",
            "_model_name": "LayoutModel",
            "_view_count": null,
            "_view_module": "@jupyter-widgets/base",
            "_view_module_version": "1.2.0",
            "_view_name": "LayoutView",
            "align_content": null,
            "align_items": null,
            "align_self": null,
            "border": null,
            "bottom": null,
            "display": null,
            "flex": null,
            "flex_flow": null,
            "grid_area": null,
            "grid_auto_columns": null,
            "grid_auto_flow": null,
            "grid_auto_rows": null,
            "grid_column": null,
            "grid_gap": null,
            "grid_row": null,
            "grid_template_areas": null,
            "grid_template_columns": null,
            "grid_template_rows": null,
            "height": null,
            "justify_content": null,
            "justify_items": null,
            "left": null,
            "margin": null,
            "max_height": null,
            "max_width": null,
            "min_height": null,
            "min_width": null,
            "object_fit": null,
            "object_position": null,
            "order": null,
            "overflow": null,
            "overflow_x": null,
            "overflow_y": null,
            "padding": null,
            "right": null,
            "top": null,
            "visibility": null,
            "width": null
          }
        }
      }
    }
  },
  "nbformat": 4,
  "nbformat_minor": 0
}